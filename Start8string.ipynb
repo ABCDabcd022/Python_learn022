{
 "cells": [
  {
   "cell_type": "code",
   "execution_count": 1,
   "id": "03b8e5aa",
   "metadata": {},
   "outputs": [
    {
     "data": {
      "text/plain": [
       "'lets write a string as s'"
      ]
     },
     "execution_count": 1,
     "metadata": {},
     "output_type": "execute_result"
    }
   ],
   "source": [
    "s = 'lets write a string as s'\n",
    "s"
   ]
  },
  {
   "cell_type": "code",
   "execution_count": 2,
   "id": "9aee936c",
   "metadata": {},
   "outputs": [
    {
     "ename": "SyntaxError",
     "evalue": "invalid syntax (2908986785.py, line 1)",
     "output_type": "error",
     "traceback": [
      "\u001b[1;36m  File \u001b[1;32m\"C:\\Users\\nicks\\AppData\\Local\\Temp\\ipykernel_1260\\2908986785.py\"\u001b[1;36m, line \u001b[1;32m1\u001b[0m\n\u001b[1;33m    s = 'lets write a string as 's''\u001b[0m\n\u001b[1;37m                                 ^\u001b[0m\n\u001b[1;31mSyntaxError\u001b[0m\u001b[1;31m:\u001b[0m invalid syntax\n"
     ]
    }
   ],
   "source": [
    "s = 'lets write a string as 's''\n",
    "s"
   ]
  },
  {
   "cell_type": "code",
   "execution_count": 3,
   "id": "4da0c5e8",
   "metadata": {},
   "outputs": [
    {
     "data": {
      "text/plain": [
       "\"lets write a string as 's'\""
      ]
     },
     "execution_count": 3,
     "metadata": {},
     "output_type": "execute_result"
    }
   ],
   "source": [
    "s = \"lets write a string as 's'\"\n",
    "s"
   ]
  },
  {
   "cell_type": "code",
   "execution_count": 5,
   "id": "5fc2b82a",
   "metadata": {},
   "outputs": [
    {
     "data": {
      "text/plain": [
       "\"let's write a string as 's'\""
      ]
     },
     "execution_count": 5,
     "metadata": {},
     "output_type": "execute_result"
    }
   ],
   "source": [
    "s = \"let's write a string as 's'\"\n",
    "s"
   ]
  },
  {
   "cell_type": "markdown",
   "id": "d3e9ca15",
   "metadata": {},
   "source": [
    "потом..."
   ]
  },
  {
   "cell_type": "code",
   "execution_count": null,
   "id": "b2c0e2b8",
   "metadata": {},
   "outputs": [],
   "source": []
  }
 ],
 "metadata": {
  "kernelspec": {
   "display_name": "Python 3 (ipykernel)",
   "language": "python",
   "name": "python3"
  },
  "language_info": {
   "codemirror_mode": {
    "name": "ipython",
    "version": 3
   },
   "file_extension": ".py",
   "mimetype": "text/x-python",
   "name": "python",
   "nbconvert_exporter": "python",
   "pygments_lexer": "ipython3",
   "version": "3.9.13"
  }
 },
 "nbformat": 4,
 "nbformat_minor": 5
}
