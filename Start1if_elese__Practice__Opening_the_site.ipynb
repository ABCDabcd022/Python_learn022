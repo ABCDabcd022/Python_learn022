{
 "cells": [
  {
   "cell_type": "code",
   "execution_count": 5,
   "id": "473e598c",
   "metadata": {},
   "outputs": [],
   "source": [
    "import os"
   ]
  },
  {
   "cell_type": "code",
   "execution_count": 2,
   "id": "bc431555",
   "metadata": {},
   "outputs": [
    {
     "data": {
      "text/plain": [
       "True"
      ]
     },
     "execution_count": 2,
     "metadata": {},
     "output_type": "execute_result"
    }
   ],
   "source": [
    "'www' in \"www.youtube.com\""
   ]
  },
  {
   "cell_type": "code",
   "execution_count": 3,
   "id": "d04a7807",
   "metadata": {},
   "outputs": [
    {
     "data": {
      "text/plain": [
       "0"
      ]
     },
     "execution_count": 3,
     "metadata": {},
     "output_type": "execute_result"
    }
   ],
   "source": [
    "os.system('start www.youtube.com')"
   ]
  },
  {
   "cell_type": "markdown",
   "id": "c600bbef",
   "metadata": {},
   "source": [
    "И он открылся!"
   ]
  },
  {
   "cell_type": "code",
   "execution_count": 5,
   "id": "b6cbced0",
   "metadata": {},
   "outputs": [
    {
     "name": "stdout",
     "output_type": "stream",
     "text": [
      "www.youtube.com\n"
     ]
    }
   ],
   "source": [
    "site = input()"
   ]
  },
  {
   "cell_type": "code",
   "execution_count": 11,
   "id": "bc2a4569",
   "metadata": {},
   "outputs": [
    {
     "name": "stdout",
     "output_type": "stream",
     "text": [
      "https://www.youtube.com\n"
     ]
    }
   ],
   "source": [
    "if ('https://' in site):\n",
    "    os.system('start ' + site)\n",
    "    print(site)\n",
    "elif ('www.' in site):\n",
    "    site = 'https://' + site\n",
    "    os.system('start ' + site)\n",
    "    print(site)\n",
    "else:\n",
    "    site = 'https://www.' + site\n",
    "    os.system('start ' + site)\n",
    "    print(site)\n",
    "    #пробел после start нужен"
   ]
  },
  {
   "cell_type": "code",
   "execution_count": 1,
   "id": "236f6885",
   "metadata": {},
   "outputs": [],
   "source": [
    "import time"
   ]
  },
  {
   "cell_type": "code",
   "execution_count": 2,
   "id": "cbdcd974",
   "metadata": {},
   "outputs": [],
   "source": [
    "time.sleep(10)"
   ]
  },
  {
   "cell_type": "code",
   "execution_count": 7,
   "id": "904d8d12",
   "metadata": {},
   "outputs": [],
   "source": [
    "os.startfile('C:\\Windows\\system32\\mspaint.exe')"
   ]
  },
  {
   "cell_type": "markdown",
   "id": "b961208a",
   "metadata": {},
   "source": [
    "Открылся paint!"
   ]
  },
  {
   "cell_type": "markdown",
   "id": "53296d05",
   "metadata": {},
   "source": [
    "https://docs.python.org/3.8/library/os.html\n",
    "Ссылка на документацию модуль os"
   ]
  }
 ],
 "metadata": {
  "kernelspec": {
   "display_name": "Python 3 (ipykernel)",
   "language": "python",
   "name": "python3"
  },
  "language_info": {
   "codemirror_mode": {
    "name": "ipython",
    "version": 3
   },
   "file_extension": ".py",
   "mimetype": "text/x-python",
   "name": "python",
   "nbconvert_exporter": "python",
   "pygments_lexer": "ipython3",
   "version": "3.9.13"
  }
 },
 "nbformat": 4,
 "nbformat_minor": 5
}
