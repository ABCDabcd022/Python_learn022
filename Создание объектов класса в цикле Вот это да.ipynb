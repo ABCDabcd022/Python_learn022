{
 "cells": [
  {
   "cell_type": "code",
   "execution_count": 23,
   "metadata": {},
   "outputs": [
    {
     "name": "stdout",
     "output_type": "stream",
     "text": [
      "Объект_0:  <__main__.Student object at 0x000001E3DE93DA00>\n",
      "Объект_1:  <__main__.Student object at 0x000001E3DE93DA30>\n",
      "Объект_2:  <__main__.Student object at 0x000001E3DE93D3D0>\n",
      "Объект_3:  <__main__.Student object at 0x000001E3DE877DF0>\n",
      "Объект_4:  <__main__.Student object at 0x000001E3DE8770D0>\n"
     ]
    }
   ],
   "source": [
    "class Student:\n",
    "\n",
    "    def __init__(self, name):\n",
    "        self.name = name\n",
    "\n",
    "    def hello(q):\n",
    "        print('Hello')\n",
    "        return 'Hello'\n",
    "\n",
    "\n",
    "students = [Student(f\"Студент_{i}\") for i in range(20)]\n",
    "for i in range(5):\n",
    "    print(f\"Объект_{i}: \", students[i])"
   ]
  },
  {
   "cell_type": "code",
   "execution_count": 2,
   "metadata": {},
   "outputs": [
    {
     "data": {
      "text/plain": [
       "[<__main__.Student at 0x1e3ddc31dc0>,\n",
       " <__main__.Student at 0x1e3ddc317f0>,\n",
       " <__main__.Student at 0x1e3ddc31700>,\n",
       " <__main__.Student at 0x1e3ddc315e0>,\n",
       " <__main__.Student at 0x1e3ddc36520>,\n",
       " <__main__.Student at 0x1e3ddc36130>,\n",
       " <__main__.Student at 0x1e3ddc36100>,\n",
       " <__main__.Student at 0x1e3ddc36220>,\n",
       " <__main__.Student at 0x1e3ddc36250>,\n",
       " <__main__.Student at 0x1e3ddc36280>,\n",
       " <__main__.Student at 0x1e3ddc36400>,\n",
       " <__main__.Student at 0x1e3ddc36490>,\n",
       " <__main__.Student at 0x1e3ddc364f0>,\n",
       " <__main__.Student at 0x1e3ddc36fa0>,\n",
       " <__main__.Student at 0x1e3ddc36040>,\n",
       " <__main__.Student at 0x1e3ddc363a0>,\n",
       " <__main__.Student at 0x1e3ddc36430>,\n",
       " <__main__.Student at 0x1e3ddc36d00>,\n",
       " <__main__.Student at 0x1e3ddc36cd0>,\n",
       " <__main__.Student at 0x1e3ddc36ca0>]"
      ]
     },
     "execution_count": 2,
     "metadata": {},
     "output_type": "execute_result"
    }
   ],
   "source": [
    "students"
   ]
  },
  {
   "cell_type": "code",
   "execution_count": 6,
   "metadata": {},
   "outputs": [
    {
     "data": {
      "text/plain": [
       "<__main__.Student at 0x1e3ddc317f0>"
      ]
     },
     "execution_count": 6,
     "metadata": {},
     "output_type": "execute_result"
    }
   ],
   "source": [
    "students[1]"
   ]
  },
  {
   "cell_type": "code",
   "execution_count": 24,
   "metadata": {},
   "outputs": [
    {
     "name": "stdout",
     "output_type": "stream",
     "text": [
      "Hello\n",
      "Hello\n"
     ]
    }
   ],
   "source": [
    "print(students[1].hello())"
   ]
  },
  {
   "cell_type": "code",
   "execution_count": null,
   "metadata": {},
   "outputs": [],
   "source": []
  }
 ],
 "metadata": {
  "kernelspec": {
   "display_name": "base",
   "language": "python",
   "name": "python3"
  },
  "language_info": {
   "codemirror_mode": {
    "name": "ipython",
    "version": 3
   },
   "file_extension": ".py",
   "mimetype": "text/x-python",
   "name": "python",
   "nbconvert_exporter": "python",
   "pygments_lexer": "ipython3",
   "version": "3.9.13"
  }
 },
 "nbformat": 4,
 "nbformat_minor": 2
}
