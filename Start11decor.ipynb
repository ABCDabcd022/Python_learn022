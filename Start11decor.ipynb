{
 "cells": [
  {
   "cell_type": "code",
   "execution_count": 1,
   "id": "78ad1840",
   "metadata": {},
   "outputs": [],
   "source": [
    "def make():\n",
    "    n = 10\n",
    "    print(n)"
   ]
  },
  {
   "cell_type": "code",
   "execution_count": 2,
   "id": "c041857d",
   "metadata": {},
   "outputs": [
    {
     "name": "stdout",
     "output_type": "stream",
     "text": [
      "10\n"
     ]
    }
   ],
   "source": [
    "h = make #можно передать имя функции как ссылку на переменную\n",
    "h()"
   ]
  },
  {
   "cell_type": "code",
   "execution_count": 3,
   "id": "6f42fc0b",
   "metadata": {},
   "outputs": [],
   "source": [
    "def decor(f):\n",
    "    print(20)\n",
    "    f()\n",
    "    print(20)"
   ]
  },
  {
   "cell_type": "code",
   "execution_count": 6,
   "id": "907792a0",
   "metadata": {},
   "outputs": [
    {
     "name": "stdout",
     "output_type": "stream",
     "text": [
      "20\n",
      "10\n",
      "20\n"
     ]
    }
   ],
   "source": [
    "@decor\n",
    "def make():\n",
    "    n = 10\n",
    "    print(n)"
   ]
  },
  {
   "cell_type": "code",
   "execution_count": 9,
   "id": "07d717a7",
   "metadata": {},
   "outputs": [
    {
     "ename": "IndentationError",
     "evalue": "unexpected indent (2620251553.py, line 2)",
     "output_type": "error",
     "traceback": [
      "\u001b[1;36m  File \u001b[1;32m\"C:\\Users\\nicks\\AppData\\Local\\Temp\\ipykernel_8264\\2620251553.py\"\u001b[1;36m, line \u001b[1;32m2\u001b[0m\n\u001b[1;33m    make()\u001b[0m\n\u001b[1;37m    ^\u001b[0m\n\u001b[1;31mIndentationError\u001b[0m\u001b[1;31m:\u001b[0m unexpected indent\n"
     ]
    }
   ],
   "source": [
    "@decor \n",
    "    make()"
   ]
  },
  {
   "cell_type": "code",
   "execution_count": 10,
   "id": "84206eae",
   "metadata": {},
   "outputs": [
    {
     "name": "stdout",
     "output_type": "stream",
     "text": [
      "20\n",
      "10\n",
      "20\n"
     ]
    }
   ],
   "source": [
    "def decor(f):\n",
    "    def wrapper():\n",
    "        print(20)\n",
    "        f()\n",
    "        print(20)\n",
    "    return wrapper\n",
    "\n",
    "@decor\n",
    "def make():\n",
    "    n = 10\n",
    "    print(n)\n",
    "\n",
    "make()   "
   ]
  },
  {
   "cell_type": "code",
   "execution_count": 13,
   "id": "bad7ab13",
   "metadata": {},
   "outputs": [
    {
     "ename": "NameError",
     "evalue": "name 'decor1' is not defined",
     "output_type": "error",
     "traceback": [
      "\u001b[1;31m---------------------------------------------------------------------------\u001b[0m",
      "\u001b[1;31mNameError\u001b[0m                                 Traceback (most recent call last)",
      "\u001b[1;32m~\\AppData\\Local\\Temp\\ipykernel_8264\\1330133551.py\u001b[0m in \u001b[0;36m<module>\u001b[1;34m\u001b[0m\n\u001b[1;32m----> 1\u001b[1;33m \u001b[1;33m@\u001b[0m\u001b[0mdecor1\u001b[0m\u001b[1;33m\u001b[0m\u001b[1;33m\u001b[0m\u001b[0m\n\u001b[0m\u001b[0;32m      2\u001b[0m \u001b[1;32mdef\u001b[0m \u001b[0mmake1\u001b[0m\u001b[1;33m(\u001b[0m\u001b[1;33m)\u001b[0m\u001b[1;33m:\u001b[0m\u001b[1;33m\u001b[0m\u001b[1;33m\u001b[0m\u001b[0m\n\u001b[0;32m      3\u001b[0m     \u001b[0mn\u001b[0m \u001b[1;33m=\u001b[0m \u001b[1;36m10\u001b[0m\u001b[1;33m\u001b[0m\u001b[1;33m\u001b[0m\u001b[0m\n\u001b[0;32m      4\u001b[0m     \u001b[0mprint\u001b[0m\u001b[1;33m(\u001b[0m\u001b[0mn\u001b[0m\u001b[1;33m)\u001b[0m\u001b[1;33m\u001b[0m\u001b[1;33m\u001b[0m\u001b[0m\n\u001b[0;32m      5\u001b[0m \u001b[1;33m\u001b[0m\u001b[0m\n",
      "\u001b[1;31mNameError\u001b[0m: name 'decor1' is not defined"
     ]
    }
   ],
   "source": [
    "@decor1\n",
    "def make1():\n",
    "    n = 10\n",
    "    print(n)\n",
    "\n",
    "make1()\n",
    "print('\\n')\n",
    "\n",
    "def decor1(f):\n",
    "    def wrapper():\n",
    "        print(20)\n",
    "        f()\n",
    "        print(20)\n",
    "    return wrapper\n",
    "\n",
    "make1() "
   ]
  },
  {
   "cell_type": "code",
   "execution_count": null,
   "id": "f0047a98",
   "metadata": {},
   "outputs": [],
   "source": []
  }
 ],
 "metadata": {
  "kernelspec": {
   "display_name": "Python 3 (ipykernel)",
   "language": "python",
   "name": "python3"
  },
  "language_info": {
   "codemirror_mode": {
    "name": "ipython",
    "version": 3
   },
   "file_extension": ".py",
   "mimetype": "text/x-python",
   "name": "python",
   "nbconvert_exporter": "python",
   "pygments_lexer": "ipython3",
   "version": "3.9.13"
  }
 },
 "nbformat": 4,
 "nbformat_minor": 5
}
