{
 "cells": [
  {
   "cell_type": "code",
   "execution_count": 3,
   "id": "fdbc327f",
   "metadata": {},
   "outputs": [],
   "source": [
    "def show():\n",
    "    print('функция')"
   ]
  },
  {
   "cell_type": "code",
   "execution_count": 4,
   "id": "d4865774",
   "metadata": {},
   "outputs": [
    {
     "name": "stdout",
     "output_type": "stream",
     "text": [
      "функция\n"
     ]
    }
   ],
   "source": [
    "show()"
   ]
  },
  {
   "cell_type": "code",
   "execution_count": 6,
   "id": "50be7a32",
   "metadata": {},
   "outputs": [],
   "source": [
    "def show2():\n",
    "    x = 7\n",
    "    return x"
   ]
  },
  {
   "cell_type": "code",
   "execution_count": 8,
   "id": "2d313fcb",
   "metadata": {},
   "outputs": [
    {
     "data": {
      "text/plain": [
       "7"
      ]
     },
     "execution_count": 8,
     "metadata": {},
     "output_type": "execute_result"
    }
   ],
   "source": [
    "y = show2()\n",
    "y"
   ]
  },
  {
   "cell_type": "code",
   "execution_count": 9,
   "id": "fc0d6050",
   "metadata": {},
   "outputs": [
    {
     "name": "stdout",
     "output_type": "stream",
     "text": [
      "7\n"
     ]
    }
   ],
   "source": [
    "print(show2())"
   ]
  },
  {
   "cell_type": "code",
   "execution_count": 10,
   "id": "e59ce473",
   "metadata": {},
   "outputs": [
    {
     "data": {
      "text/plain": [
       "16"
      ]
     },
     "execution_count": 10,
     "metadata": {},
     "output_type": "execute_result"
    }
   ],
   "source": [
    "z = show2() + 9\n",
    "z"
   ]
  },
  {
   "cell_type": "code",
   "execution_count": 11,
   "id": "8c827f20",
   "metadata": {},
   "outputs": [],
   "source": [
    "def show3():\n",
    "    x = 7 + z\n",
    "    return x"
   ]
  },
  {
   "cell_type": "code",
   "execution_count": 13,
   "id": "f4c24ae3",
   "metadata": {},
   "outputs": [
    {
     "data": {
      "text/plain": [
       "11"
      ]
     },
     "execution_count": 13,
     "metadata": {},
     "output_type": "execute_result"
    }
   ],
   "source": [
    "z = 4\n",
    "\n",
    "show3()"
   ]
  },
  {
   "cell_type": "code",
   "execution_count": 15,
   "id": "9c7736c3",
   "metadata": {},
   "outputs": [],
   "source": [
    "def show4():\n",
    "    x, y, z = 7, 8, 9\n",
    "    return x, y, z"
   ]
  },
  {
   "cell_type": "code",
   "execution_count": 17,
   "id": "67c5c40a",
   "metadata": {},
   "outputs": [
    {
     "name": "stdout",
     "output_type": "stream",
     "text": [
      "7 8 9\n"
     ]
    }
   ],
   "source": [
    "x, y, z = show4()\n",
    "print(x, y, z)"
   ]
  },
  {
   "cell_type": "code",
   "execution_count": 19,
   "id": "6e0c12a5",
   "metadata": {},
   "outputs": [
    {
     "name": "stdout",
     "output_type": "stream",
     "text": [
      "7 8\n"
     ]
    }
   ],
   "source": [
    "a, b, _ = show4()\n",
    "print(a, b)"
   ]
  },
  {
   "cell_type": "code",
   "execution_count": 20,
   "id": "3fdda9bb",
   "metadata": {},
   "outputs": [
    {
     "name": "stdout",
     "output_type": "stream",
     "text": [
      "7\n"
     ]
    }
   ],
   "source": [
    "q, _, _ = show4()\n",
    "print(q)"
   ]
  },
  {
   "cell_type": "code",
   "execution_count": 21,
   "id": "54d980cc",
   "metadata": {},
   "outputs": [],
   "source": [
    "def count_list(list):\n",
    "    count = 0\n",
    "    for i in list:\n",
    "        count += 1\n",
    "    return count"
   ]
  },
  {
   "cell_type": "code",
   "execution_count": 22,
   "id": "658049a2",
   "metadata": {},
   "outputs": [
    {
     "data": {
      "text/plain": [
       "4"
      ]
     },
     "execution_count": 22,
     "metadata": {},
     "output_type": "execute_result"
    }
   ],
   "source": [
    "j = (1, 2, 3, \"qwe\")\n",
    "\n",
    "count_list(j)"
   ]
  },
  {
   "cell_type": "code",
   "execution_count": 23,
   "id": "8ced32f4",
   "metadata": {},
   "outputs": [],
   "source": [
    "def count_list(list, count = 0):\n",
    "    for i in list:\n",
    "        count += 1\n",
    "    return count"
   ]
  },
  {
   "cell_type": "code",
   "execution_count": 24,
   "id": "1cc00118",
   "metadata": {},
   "outputs": [
    {
     "data": {
      "text/plain": [
       "-96"
      ]
     },
     "execution_count": 24,
     "metadata": {},
     "output_type": "execute_result"
    }
   ],
   "source": [
    "count_list(j, -100)"
   ]
  },
  {
   "cell_type": "code",
   "execution_count": 25,
   "id": "34d196ce",
   "metadata": {},
   "outputs": [],
   "source": [
    "def name(*args):\n",
    "    print(args)"
   ]
  },
  {
   "cell_type": "code",
   "execution_count": 26,
   "id": "63f4baca",
   "metadata": {},
   "outputs": [
    {
     "name": "stdout",
     "output_type": "stream",
     "text": [
      "(1, 2, 3)\n"
     ]
    }
   ],
   "source": [
    "name(1, 2, 3)"
   ]
  },
  {
   "cell_type": "code",
   "execution_count": 27,
   "id": "abdabd62",
   "metadata": {},
   "outputs": [],
   "source": [
    "def name(h, *args):\n",
    "    print(args)"
   ]
  },
  {
   "cell_type": "code",
   "execution_count": 28,
   "id": "55c91c70",
   "metadata": {},
   "outputs": [
    {
     "name": "stdout",
     "output_type": "stream",
     "text": [
      "(2, 3)\n"
     ]
    }
   ],
   "source": [
    "name(1, 2, 3)"
   ]
  },
  {
   "cell_type": "code",
   "execution_count": 31,
   "id": "39117307",
   "metadata": {},
   "outputs": [],
   "source": [
    "def name(h = 100, g = 200, *args):\n",
    "    print(h)\n",
    "    print(g)\n",
    "    print(args)"
   ]
  },
  {
   "cell_type": "code",
   "execution_count": 32,
   "id": "51bdea41",
   "metadata": {},
   "outputs": [
    {
     "name": "stdout",
     "output_type": "stream",
     "text": [
      "1\n",
      "2\n",
      "(3,)\n"
     ]
    }
   ],
   "source": [
    "name(1, 2, 3)"
   ]
  },
  {
   "cell_type": "code",
   "execution_count": 33,
   "id": "28f55f53",
   "metadata": {},
   "outputs": [],
   "source": [
    "def name(h = 100, g = 200, *args, key):\n",
    "    print(h)\n",
    "    print(g)\n",
    "    print(args)\n",
    "    print(key)"
   ]
  },
  {
   "cell_type": "code",
   "execution_count": 34,
   "id": "ed20a00b",
   "metadata": {},
   "outputs": [
    {
     "ename": "TypeError",
     "evalue": "name() missing 1 required keyword-only argument: 'key'",
     "output_type": "error",
     "traceback": [
      "\u001b[1;31m---------------------------------------------------------------------------\u001b[0m",
      "\u001b[1;31mTypeError\u001b[0m                                 Traceback (most recent call last)",
      "\u001b[1;32m~\\AppData\\Local\\Temp\\ipykernel_3144\\2380954482.py\u001b[0m in \u001b[0;36m<module>\u001b[1;34m\u001b[0m\n\u001b[1;32m----> 1\u001b[1;33m \u001b[0mname\u001b[0m\u001b[1;33m(\u001b[0m\u001b[1;36m1\u001b[0m\u001b[1;33m,\u001b[0m \u001b[1;36m2\u001b[0m\u001b[1;33m,\u001b[0m \u001b[1;36m3\u001b[0m\u001b[1;33m,\u001b[0m \u001b[1;36m4\u001b[0m\u001b[1;33m,\u001b[0m \u001b[1;36m5\u001b[0m\u001b[1;33m)\u001b[0m\u001b[1;33m\u001b[0m\u001b[1;33m\u001b[0m\u001b[0m\n\u001b[0m",
      "\u001b[1;31mTypeError\u001b[0m: name() missing 1 required keyword-only argument: 'key'"
     ]
    }
   ],
   "source": [
    "name(1, 2, 3, 4, 5)"
   ]
  },
  {
   "cell_type": "code",
   "execution_count": 35,
   "id": "5ccc20d3",
   "metadata": {},
   "outputs": [
    {
     "name": "stdout",
     "output_type": "stream",
     "text": [
      "1\n",
      "2\n",
      "(3, 4)\n",
      "5\n"
     ]
    }
   ],
   "source": [
    "name(1, 2, 3, 4, key = 5)"
   ]
  },
  {
   "cell_type": "code",
   "execution_count": 38,
   "id": "75b503bf",
   "metadata": {},
   "outputs": [],
   "source": [
    "x = 10\n",
    "\n",
    "def name():\n",
    "    global x \n",
    "    x += 1000"
   ]
  },
  {
   "cell_type": "code",
   "execution_count": 39,
   "id": "c4736c6e",
   "metadata": {},
   "outputs": [
    {
     "data": {
      "text/plain": [
       "1010"
      ]
     },
     "execution_count": 39,
     "metadata": {},
     "output_type": "execute_result"
    }
   ],
   "source": [
    "name()\n",
    "x"
   ]
  },
  {
   "cell_type": "code",
   "execution_count": 43,
   "id": "adbecd2e",
   "metadata": {},
   "outputs": [],
   "source": [
    "def name(): \n",
    "    x = 1000\n",
    "    def name1():\n",
    "        nonlocal x\n",
    "        x += 10000\n",
    "    name1()\n",
    "    return x"
   ]
  },
  {
   "cell_type": "code",
   "execution_count": 44,
   "id": "5d74bfbe",
   "metadata": {},
   "outputs": [
    {
     "data": {
      "text/plain": [
       "11000"
      ]
     },
     "execution_count": 44,
     "metadata": {},
     "output_type": "execute_result"
    }
   ],
   "source": [
    "y = name()\n",
    "y"
   ]
  }
 ],
 "metadata": {
  "kernelspec": {
   "display_name": "Python 3 (ipykernel)",
   "language": "python",
   "name": "python3"
  },
  "language_info": {
   "codemirror_mode": {
    "name": "ipython",
    "version": 3
   },
   "file_extension": ".py",
   "mimetype": "text/x-python",
   "name": "python",
   "nbconvert_exporter": "python",
   "pygments_lexer": "ipython3",
   "version": "3.9.13"
  }
 },
 "nbformat": 4,
 "nbformat_minor": 5
}
