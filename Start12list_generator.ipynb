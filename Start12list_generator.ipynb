{
 "cells": [
  {
   "cell_type": "code",
   "execution_count": 6,
   "id": "4a7619ca",
   "metadata": {},
   "outputs": [
    {
     "data": {
      "text/plain": [
       "array([ 1.,  2.,  3.,  4.,  5.,  6.,  7.,  8.,  9., 10.])"
      ]
     },
     "execution_count": 6,
     "metadata": {},
     "output_type": "execute_result"
    }
   ],
   "source": [
    "import numpy as np\n",
    "h = np.linspace(1, 10, 10)\n",
    "h"
   ]
  },
  {
   "cell_type": "code",
   "execution_count": 7,
   "id": "1807d2c9",
   "metadata": {},
   "outputs": [
    {
     "data": {
      "text/plain": [
       "[1.0, 2.0, 3.0, 4.0, 5.0, 6.0, 7.0, 8.0, 9.0, 10.0]"
      ]
     },
     "execution_count": 7,
     "metadata": {},
     "output_type": "execute_result"
    }
   ],
   "source": [
    "h = list(h)\n",
    "h"
   ]
  },
  {
   "cell_type": "code",
   "execution_count": 8,
   "id": "4ddf37e5",
   "metadata": {},
   "outputs": [
    {
     "data": {
      "text/plain": [
       "[1, 2, 3, 4, 5, 6, 7, 8, 9, 10]"
      ]
     },
     "execution_count": 8,
     "metadata": {},
     "output_type": "execute_result"
    }
   ],
   "source": [
    "h = list(range(1, 11))\n",
    "h"
   ]
  },
  {
   "cell_type": "code",
   "execution_count": 10,
   "id": "1d100851",
   "metadata": {},
   "outputs": [
    {
     "data": {
      "text/plain": [
       "[1, 4, 9, 16, 25, 36, 49, 64, 81, 100]"
      ]
     },
     "execution_count": 10,
     "metadata": {},
     "output_type": "execute_result"
    }
   ],
   "source": [
    "h1 = []\n",
    "for x in h:\n",
    "    h1.append(x*x)\n",
    "h1"
   ]
  },
  {
   "cell_type": "code",
   "execution_count": 11,
   "id": "e7959ff2",
   "metadata": {},
   "outputs": [],
   "source": [
    "h2 = [x*2 for x in h] # это работает быстрее"
   ]
  },
  {
   "cell_type": "code",
   "execution_count": 12,
   "id": "98b76856",
   "metadata": {},
   "outputs": [
    {
     "data": {
      "text/plain": [
       "[2, 4, 6, 8, 10, 12, 14, 16, 18, 20]"
      ]
     },
     "execution_count": 12,
     "metadata": {},
     "output_type": "execute_result"
    }
   ],
   "source": [
    "h2"
   ]
  },
  {
   "cell_type": "code",
   "execution_count": 13,
   "id": "dd9f9113",
   "metadata": {},
   "outputs": [
    {
     "data": {
      "text/plain": [
       "{2, 4, 6, 8, 10, 12, 14, 16, 18, 20}"
      ]
     },
     "execution_count": 13,
     "metadata": {},
     "output_type": "execute_result"
    }
   ],
   "source": [
    "z = {x*2 for x in h}\n",
    "z"
   ]
  },
  {
   "cell_type": "code",
   "execution_count": 14,
   "id": "da657545",
   "metadata": {},
   "outputs": [
    {
     "data": {
      "text/plain": [
       "{1: 2, 2: 4, 3: 6, 4: 8, 5: 10, 6: 12, 7: 14, 8: 16, 9: 18, 10: 20}"
      ]
     },
     "execution_count": 14,
     "metadata": {},
     "output_type": "execute_result"
    }
   ],
   "source": [
    "f = {x: x*2 for x in h}\n",
    "f"
   ]
  },
  {
   "cell_type": "code",
   "execution_count": 15,
   "id": "4475bf7c",
   "metadata": {},
   "outputs": [
    {
     "data": {
      "text/plain": [
       "[2, 4, 6, 8, 10]"
      ]
     },
     "execution_count": 15,
     "metadata": {},
     "output_type": "execute_result"
    }
   ],
   "source": [
    "g = [x for x in h if x%2 == 0]\n",
    "g"
   ]
  },
  {
   "cell_type": "code",
   "execution_count": null,
   "id": "27a42742",
   "metadata": {},
   "outputs": [],
   "source": [
    "import os\n",
    "g = [os.path.join(z, i)\n",
    "    for z, x, c in os.walk('C:\\\\')\n",
    "    for i in c if '.txt' in i]"
   ]
  },
  {
   "cell_type": "code",
   "execution_count": 17,
   "id": "014f0960",
   "metadata": {},
   "outputs": [
    {
     "data": {
      "text/plain": [
       "[2, 4, 6, 8, 10]"
      ]
     },
     "execution_count": 17,
     "metadata": {},
     "output_type": "execute_result"
    }
   ],
   "source": [
    "g"
   ]
  },
  {
   "cell_type": "code",
   "execution_count": 18,
   "id": "94750eb1",
   "metadata": {},
   "outputs": [],
   "source": [
    "price = {'q':10,'w':20,'e':30}"
   ]
  },
  {
   "cell_type": "code",
   "execution_count": 19,
   "id": "8bd56459",
   "metadata": {},
   "outputs": [
    {
     "data": {
      "text/plain": [
       "{'q': 10, 'w': 20, 'e': 30}"
      ]
     },
     "execution_count": 19,
     "metadata": {},
     "output_type": "execute_result"
    }
   ],
   "source": [
    "price"
   ]
  },
  {
   "cell_type": "code",
   "execution_count": 20,
   "id": "4018e4d6",
   "metadata": {},
   "outputs": [],
   "source": [
    "price1 = {}"
   ]
  },
  {
   "cell_type": "code",
   "execution_count": 21,
   "id": "fe37e574",
   "metadata": {},
   "outputs": [
    {
     "data": {
      "text/plain": [
       "{'q': 8.5, 'w': 17.0, 'e': 25.5}"
      ]
     },
     "execution_count": 21,
     "metadata": {},
     "output_type": "execute_result"
    }
   ],
   "source": [
    "for i in price.keys():\n",
    "    price1[i] = round(price[i]*0.85, 2)\n",
    "price1"
   ]
  },
  {
   "cell_type": "code",
   "execution_count": 22,
   "id": "5fbc9ca3",
   "metadata": {},
   "outputs": [
    {
     "data": {
      "text/plain": [
       "{'q': 8.5, 'w': 17.0, 'e': 25.5}"
      ]
     },
     "execution_count": 22,
     "metadata": {},
     "output_type": "execute_result"
    }
   ],
   "source": [
    "price2 = {i: round(price[i]*0.85, 2) for i in price.keys()}\n",
    "price2"
   ]
  },
  {
   "cell_type": "code",
   "execution_count": null,
   "id": "bd3c7c88",
   "metadata": {},
   "outputs": [],
   "source": []
  }
 ],
 "metadata": {
  "kernelspec": {
   "display_name": "Python 3 (ipykernel)",
   "language": "python",
   "name": "python3"
  },
  "language_info": {
   "codemirror_mode": {
    "name": "ipython",
    "version": 3
   },
   "file_extension": ".py",
   "mimetype": "text/x-python",
   "name": "python",
   "nbconvert_exporter": "python",
   "pygments_lexer": "ipython3",
   "version": "3.9.13"
  }
 },
 "nbformat": 4,
 "nbformat_minor": 5
}
