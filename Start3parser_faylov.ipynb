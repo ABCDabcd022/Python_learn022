{
 "cells": [
  {
   "cell_type": "code",
   "execution_count": 1,
   "id": "612f83f1",
   "metadata": {},
   "outputs": [],
   "source": [
    "import os"
   ]
  },
  {
   "cell_type": "code",
   "execution_count": 2,
   "id": "da589a14",
   "metadata": {},
   "outputs": [
    {
     "name": "stdout",
     "output_type": "stream",
     "text": [
      "('C:\\\\PLACE\\\\FILES\\\\python_training_examples', ['.ipynb_checkpoints'], ['ds0mnist.ipynb', 'ds1flats.ipynb', 'ds2hw10Nowember2023SmirnovN.ipynb', 'if_elese__Practice__Opening_the_site.py', 'Start0beginning0.ipynb', 'Start1if_elese__Practice__Opening_the_site.ipynb', 'Start2while.ipynb', 'Start3parser_faylov.ipynb'])\n"
     ]
    }
   ],
   "source": [
    "for i in os.walk('C:\\\\PLACE\\FILES\\python_training_examples'):\n",
    "    print(i)\n",
    "    break"
   ]
  },
  {
   "cell_type": "markdown",
   "id": "a75999ab",
   "metadata": {},
   "source": [
    "(адрес, список папок, список файлов)"
   ]
  },
  {
   "cell_type": "code",
   "execution_count": 3,
   "id": "35ba93b6",
   "metadata": {},
   "outputs": [
    {
     "name": "stdout",
     "output_type": "stream",
     "text": [
      "('C:\\\\PLACE\\\\FILES\\\\python_training_examples', ['.ipynb_checkpoints'], ['ds0mnist.ipynb', 'ds1flats.ipynb', 'ds2hw10Nowember2023SmirnovN.ipynb', 'if_elese__Practice__Opening_the_site.py', 'Start0beginning0.ipynb', 'Start1if_elese__Practice__Opening_the_site.ipynb', 'Start2while.ipynb', 'Start3parser_faylov.ipynb'])\n",
      "('C:\\\\PLACE\\\\FILES\\\\python_training_examples\\\\.ipynb_checkpoints', [], ['beginning0-checkpoint.ipynb', 'Conditional_statements__Practice__Opening_the_site-checkpoint.ipynb', 'flats-checkpoint.ipynb', 'Hw10Nowember2023SmirnovN-checkpoint.ipynb', 'N3mnist-checkpoint.ipynb', 'N4flats-checkpoint.ipynb', 'N5hw10Nowember2023SmirnovN-checkpoint.ipynb', 'Start3parser_faylov-checkpoint.ipynb', 'while-checkpoint.ipynb'])\n"
     ]
    }
   ],
   "source": [
    "for i in os.walk('C:\\\\PLACE\\FILES\\python_training_examples'):\n",
    "    print(i)"
   ]
  },
  {
   "cell_type": "markdown",
   "id": "887d92c1",
   "metadata": {},
   "source": [
    "зайдёт в каждую папку"
   ]
  },
  {
   "cell_type": "code",
   "execution_count": 5,
   "id": "7de03ee7",
   "metadata": {},
   "outputs": [
    {
     "name": "stdout",
     "output_type": "stream",
     "text": [
      "['C:\\\\PLACE\\\\FILES\\\\python_training_examples', 'C:\\\\PLACE\\\\FILES\\\\python_training_examples\\\\.ipynb_checkpoints']\n"
     ]
    }
   ],
   "source": [
    "spisok = []\n",
    "\n",
    "for adress, dirs, files in os.walk('C:\\\\PLACE\\FILES\\python_training_examples'):\n",
    "    spisok.append(adress)\n",
    "    \n",
    "print(spisok)"
   ]
  },
  {
   "cell_type": "markdown",
   "id": "3e8b2b69",
   "metadata": {},
   "source": [
    "все пути к каждой папке"
   ]
  },
  {
   "cell_type": "code",
   "execution_count": 6,
   "id": "2ebd1a62",
   "metadata": {},
   "outputs": [
    {
     "name": "stdout",
     "output_type": "stream",
     "text": [
      "['C:\\\\PLACE\\\\FILES\\\\python_training_examples\\\\ds0mnist.ipynb', 'C:\\\\PLACE\\\\FILES\\\\python_training_examples\\\\ds1flats.ipynb', 'C:\\\\PLACE\\\\FILES\\\\python_training_examples\\\\ds2hw10Nowember2023SmirnovN.ipynb', 'C:\\\\PLACE\\\\FILES\\\\python_training_examples\\\\if_elese__Practice__Opening_the_site.py', 'C:\\\\PLACE\\\\FILES\\\\python_training_examples\\\\Start0beginning0.ipynb', 'C:\\\\PLACE\\\\FILES\\\\python_training_examples\\\\Start1if_elese__Practice__Opening_the_site.ipynb', 'C:\\\\PLACE\\\\FILES\\\\python_training_examples\\\\Start2while.ipynb', 'C:\\\\PLACE\\\\FILES\\\\python_training_examples\\\\Start3parser_faylov.ipynb', 'C:\\\\PLACE\\\\FILES\\\\python_training_examples\\\\.ipynb_checkpoints\\\\beginning0-checkpoint.ipynb', 'C:\\\\PLACE\\\\FILES\\\\python_training_examples\\\\.ipynb_checkpoints\\\\Conditional_statements__Practice__Opening_the_site-checkpoint.ipynb', 'C:\\\\PLACE\\\\FILES\\\\python_training_examples\\\\.ipynb_checkpoints\\\\flats-checkpoint.ipynb', 'C:\\\\PLACE\\\\FILES\\\\python_training_examples\\\\.ipynb_checkpoints\\\\Hw10Nowember2023SmirnovN-checkpoint.ipynb', 'C:\\\\PLACE\\\\FILES\\\\python_training_examples\\\\.ipynb_checkpoints\\\\N3mnist-checkpoint.ipynb', 'C:\\\\PLACE\\\\FILES\\\\python_training_examples\\\\.ipynb_checkpoints\\\\N4flats-checkpoint.ipynb', 'C:\\\\PLACE\\\\FILES\\\\python_training_examples\\\\.ipynb_checkpoints\\\\N5hw10Nowember2023SmirnovN-checkpoint.ipynb', 'C:\\\\PLACE\\\\FILES\\\\python_training_examples\\\\.ipynb_checkpoints\\\\Start3parser_faylov-checkpoint.ipynb', 'C:\\\\PLACE\\\\FILES\\\\python_training_examples\\\\.ipynb_checkpoints\\\\while-checkpoint.ipynb']\n"
     ]
    }
   ],
   "source": [
    "spisok = []\n",
    "\n",
    "for adress, dirs, files in os.walk('C:\\\\PLACE\\FILES\\python_training_examples'):\n",
    "    for file in files:\n",
    "        spisok.append(os.path.join(adress, file))\n",
    "        \n",
    "print(spisok)"
   ]
  },
  {
   "cell_type": "markdown",
   "id": "6df98046",
   "metadata": {},
   "source": [
    "адреса всех файлов"
   ]
  },
  {
   "cell_type": "code",
   "execution_count": 8,
   "id": "30d97000",
   "metadata": {},
   "outputs": [
    {
     "name": "stdout",
     "output_type": "stream",
     "text": [
      "['C:\\\\PLACE\\\\FILES\\\\python_training_examples\\\\Новый текстовый документ.txt']\n"
     ]
    }
   ],
   "source": [
    "spisok = []\n",
    "\n",
    "for adress, dirs, files in os.walk('C:\\\\PLACE\\FILES\\python_training_examples'):\n",
    "    for file in files:\n",
    "        full = os.path.join(adress, file)\n",
    "        if \".txt\" in full:\n",
    "            spisok.append(full)\n",
    "print(spisok)"
   ]
  },
  {
   "cell_type": "code",
   "execution_count": 9,
   "id": "d29e516e",
   "metadata": {},
   "outputs": [
    {
     "name": "stdout",
     "output_type": "stream",
     "text": [
      "['C:\\\\PLACE\\\\FILES\\\\python_training_examples\\\\Start3parser_faylov.ipynb', 'C:\\\\PLACE\\\\FILES\\\\python_training_examples\\\\Новый текстовый документ.txt', 'C:\\\\PLACE\\\\FILES\\\\python_training_examples\\\\.ipynb_checkpoints\\\\Start3parser_faylov-checkpoint.ipynb']\n"
     ]
    }
   ],
   "source": [
    "import time\n",
    "\n",
    "spisok = []\n",
    "\n",
    "for adress, dirs, files in os.walk('C:\\\\PLACE\\FILES\\python_training_examples'):\n",
    "    for file in files:\n",
    "        full = os.path.join(adress, file)\n",
    "        if time.time() - os.path.getctime(full) < 86400:\n",
    "            spisok.append(full)\n",
    "print(spisok)"
   ]
  }
 ],
 "metadata": {
  "kernelspec": {
   "display_name": "Python 3 (ipykernel)",
   "language": "python",
   "name": "python3"
  },
  "language_info": {
   "codemirror_mode": {
    "name": "ipython",
    "version": 3
   },
   "file_extension": ".py",
   "mimetype": "text/x-python",
   "name": "python",
   "nbconvert_exporter": "python",
   "pygments_lexer": "ipython3",
   "version": "3.9.13"
  }
 },
 "nbformat": 4,
 "nbformat_minor": 5
}
