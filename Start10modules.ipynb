{
 "cells": [
  {
   "cell_type": "markdown",
   "id": "1fc1e922",
   "metadata": {},
   "source": [
    "C:\\Python311\\Lib"
   ]
  },
  {
   "cell_type": "markdown",
   "id": "9e175de1",
   "metadata": {},
   "source": [
    "C:\\Users\\nicks>python --version        \n",
    "Python 3.9.13"
   ]
  },
  {
   "cell_type": "code",
   "execution_count": 1,
   "id": "760e2abb",
   "metadata": {},
   "outputs": [
    {
     "data": {
      "text/plain": [
       "['In',\n",
       " 'Out',\n",
       " '_',\n",
       " '__',\n",
       " '___',\n",
       " '__builtin__',\n",
       " '__builtins__',\n",
       " '__doc__',\n",
       " '__loader__',\n",
       " '__name__',\n",
       " '__package__',\n",
       " '__spec__',\n",
       " '_dh',\n",
       " '_i',\n",
       " '_i1',\n",
       " '_ih',\n",
       " '_ii',\n",
       " '_iii',\n",
       " '_oh',\n",
       " 'exit',\n",
       " 'get_ipython',\n",
       " 'quit']"
      ]
     },
     "execution_count": 1,
     "metadata": {},
     "output_type": "execute_result"
    }
   ],
   "source": [
    "dir()"
   ]
  },
  {
   "cell_type": "markdown",
   "id": "87cac83d",
   "metadata": {},
   "source": [
    "Импорт модуля"
   ]
  },
  {
   "cell_type": "markdown",
   "id": "84af28a9",
   "metadata": {},
   "source": [
    "из одной папки:"
   ]
  },
  {
   "cell_type": "code",
   "execution_count": 2,
   "id": "467ffb9c",
   "metadata": {},
   "outputs": [],
   "source": [
    "#untitled6\n",
    "import untitled6"
   ]
  },
  {
   "cell_type": "code",
   "execution_count": 3,
   "id": "9300a219",
   "metadata": {},
   "outputs": [
    {
     "data": {
      "text/plain": [
       "['__builtins__',\n",
       " '__cached__',\n",
       " '__doc__',\n",
       " '__file__',\n",
       " '__loader__',\n",
       " '__name__',\n",
       " '__package__',\n",
       " '__spec__',\n",
       " 'f']"
      ]
     },
     "execution_count": 3,
     "metadata": {},
     "output_type": "execute_result"
    }
   ],
   "source": [
    "dir(untitled6)"
   ]
  },
  {
   "cell_type": "code",
   "execution_count": 4,
   "id": "ade37903",
   "metadata": {},
   "outputs": [
    {
     "name": "stdout",
     "output_type": "stream",
     "text": [
      "Help on module untitled6:\n",
      "\n",
      "NAME\n",
      "    untitled6\n",
      "\n",
      "FUNCTIONS\n",
      "    f()\n",
      "\n",
      "FILE\n",
      "    c:\\place\\files\\python_training_examples\\untitled6.py\n",
      "\n",
      "\n"
     ]
    }
   ],
   "source": [
    "help(untitled6)"
   ]
  },
  {
   "cell_type": "code",
   "execution_count": 5,
   "id": "5c06ea65",
   "metadata": {},
   "outputs": [
    {
     "name": "stdout",
     "output_type": "stream",
     "text": [
      "Help on function f in module untitled6:\n",
      "\n",
      "f()\n",
      "\n"
     ]
    }
   ],
   "source": [
    "help(untitled6.f)"
   ]
  },
  {
   "cell_type": "code",
   "execution_count": 6,
   "id": "c695aa6a",
   "metadata": {},
   "outputs": [
    {
     "data": {
      "text/plain": [
       "10"
      ]
     },
     "execution_count": 6,
     "metadata": {},
     "output_type": "execute_result"
    }
   ],
   "source": [
    "untitled6.f()"
   ]
  },
  {
   "cell_type": "code",
   "execution_count": 7,
   "id": "12e440a8",
   "metadata": {},
   "outputs": [
    {
     "data": {
      "text/plain": [
       "10"
      ]
     },
     "execution_count": 7,
     "metadata": {},
     "output_type": "execute_result"
    }
   ],
   "source": [
    "from untitled6 import *\n",
    "\n",
    "f()"
   ]
  },
  {
   "cell_type": "code",
   "execution_count": 8,
   "id": "57c73b7e",
   "metadata": {},
   "outputs": [
    {
     "data": {
      "text/plain": [
       "['C:\\\\PLACE\\\\FILES\\\\python_training_examples',\n",
       " 'C:\\\\ANACONDA\\\\python39.zip',\n",
       " 'C:\\\\ANACONDA\\\\DLLs',\n",
       " 'C:\\\\ANACONDA\\\\lib',\n",
       " 'C:\\\\ANACONDA',\n",
       " '',\n",
       " 'C:\\\\ANACONDA\\\\lib\\\\site-packages',\n",
       " 'C:\\\\ANACONDA\\\\lib\\\\site-packages\\\\win32',\n",
       " 'C:\\\\ANACONDA\\\\lib\\\\site-packages\\\\win32\\\\lib',\n",
       " 'C:\\\\ANACONDA\\\\lib\\\\site-packages\\\\Pythonwin',\n",
       " 'C:\\\\ANACONDA\\\\lib\\\\site-packages\\\\IPython\\\\extensions',\n",
       " 'C:\\\\Users\\\\nicks\\\\.ipython']"
      ]
     },
     "execution_count": 8,
     "metadata": {},
     "output_type": "execute_result"
    }
   ],
   "source": [
    "import sys\n",
    "\n",
    "sys.path"
   ]
  },
  {
   "cell_type": "code",
   "execution_count": 9,
   "id": "f272f159",
   "metadata": {},
   "outputs": [
    {
     "data": {
      "text/plain": [
       "['In',\n",
       " 'Out',\n",
       " '_',\n",
       " '_1',\n",
       " '_3',\n",
       " '_6',\n",
       " '_7',\n",
       " '_8',\n",
       " '__',\n",
       " '___',\n",
       " '__builtin__',\n",
       " '__builtins__',\n",
       " '__doc__',\n",
       " '__loader__',\n",
       " '__name__',\n",
       " '__package__',\n",
       " '__spec__',\n",
       " '_dh',\n",
       " '_i',\n",
       " '_i1',\n",
       " '_i2',\n",
       " '_i3',\n",
       " '_i4',\n",
       " '_i5',\n",
       " '_i6',\n",
       " '_i7',\n",
       " '_i8',\n",
       " '_i9',\n",
       " '_ih',\n",
       " '_ii',\n",
       " '_iii',\n",
       " '_oh',\n",
       " 'exit',\n",
       " 'f',\n",
       " 'get_ipython',\n",
       " 'quit',\n",
       " 'sys',\n",
       " 'untitled6']"
      ]
     },
     "execution_count": 9,
     "metadata": {},
     "output_type": "execute_result"
    }
   ],
   "source": [
    "dir()"
   ]
  },
  {
   "cell_type": "code",
   "execution_count": 10,
   "id": "3943134b",
   "metadata": {},
   "outputs": [
    {
     "data": {
      "text/plain": [
       "'__main__'"
      ]
     },
     "execution_count": 10,
     "metadata": {},
     "output_type": "execute_result"
    }
   ],
   "source": [
    "__name__"
   ]
  },
  {
   "cell_type": "code",
   "execution_count": 11,
   "id": "7a5b9e08",
   "metadata": {},
   "outputs": [
    {
     "data": {
      "text/plain": [
       "'untitled6'"
      ]
     },
     "execution_count": 11,
     "metadata": {},
     "output_type": "execute_result"
    }
   ],
   "source": [
    "untitled6.__name__"
   ]
  },
  {
   "cell_type": "code",
   "execution_count": null,
   "id": "deb12427",
   "metadata": {},
   "outputs": [],
   "source": []
  }
 ],
 "metadata": {
  "kernelspec": {
   "display_name": "Python 3 (ipykernel)",
   "language": "python",
   "name": "python3"
  },
  "language_info": {
   "codemirror_mode": {
    "name": "ipython",
    "version": 3
   },
   "file_extension": ".py",
   "mimetype": "text/x-python",
   "name": "python",
   "nbconvert_exporter": "python",
   "pygments_lexer": "ipython3",
   "version": "3.9.13"
  }
 },
 "nbformat": 4,
 "nbformat_minor": 5
}
