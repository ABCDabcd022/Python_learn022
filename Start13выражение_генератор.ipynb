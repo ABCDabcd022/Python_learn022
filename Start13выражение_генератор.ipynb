{
 "cells": [
  {
   "cell_type": "code",
   "execution_count": 5,
   "id": "632bf1bc",
   "metadata": {},
   "outputs": [],
   "source": [
    "h = [\n",
    "    'https://ru.savefrom.net',\n",
    "    'https://yandex.ru',\n",
    "    'https://www.youtube.com']"
   ]
  },
  {
   "cell_type": "code",
   "execution_count": 6,
   "id": "cdc11eb9",
   "metadata": {},
   "outputs": [
    {
     "data": {
      "text/plain": [
       "['https://ru.savefrom.net', 'https://yandex.ru', 'https://www.youtube.com']"
      ]
     },
     "execution_count": 6,
     "metadata": {},
     "output_type": "execute_result"
    }
   ],
   "source": [
    "h"
   ]
  },
  {
   "cell_type": "code",
   "execution_count": 7,
   "id": "eeef1c07",
   "metadata": {},
   "outputs": [],
   "source": [
    "n = [x.split('//')[0] for x in h]"
   ]
  },
  {
   "cell_type": "code",
   "execution_count": 8,
   "id": "82616862",
   "metadata": {},
   "outputs": [
    {
     "data": {
      "text/plain": [
       "['https:', 'https:', 'https:']"
      ]
     },
     "execution_count": 8,
     "metadata": {},
     "output_type": "execute_result"
    }
   ],
   "source": [
    "n"
   ]
  },
  {
   "cell_type": "code",
   "execution_count": 9,
   "id": "4542d82e",
   "metadata": {},
   "outputs": [],
   "source": [
    "n = [x.split('//') for x in h]"
   ]
  },
  {
   "cell_type": "code",
   "execution_count": 10,
   "id": "655c896e",
   "metadata": {},
   "outputs": [
    {
     "data": {
      "text/plain": [
       "[['https:', 'ru.savefrom.net'],\n",
       " ['https:', 'yandex.ru'],\n",
       " ['https:', 'www.youtube.com']]"
      ]
     },
     "execution_count": 10,
     "metadata": {},
     "output_type": "execute_result"
    }
   ],
   "source": [
    "n"
   ]
  },
  {
   "cell_type": "code",
   "execution_count": 11,
   "id": "80f72298",
   "metadata": {},
   "outputs": [],
   "source": [
    "n = [x.split('//')[1] for x in h if '.com' in x]"
   ]
  },
  {
   "cell_type": "code",
   "execution_count": 12,
   "id": "744efcf1",
   "metadata": {},
   "outputs": [
    {
     "data": {
      "text/plain": [
       "['www.youtube.com']"
      ]
     },
     "execution_count": 12,
     "metadata": {},
     "output_type": "execute_result"
    }
   ],
   "source": [
    "n"
   ]
  },
  {
   "cell_type": "code",
   "execution_count": 13,
   "id": "d50ecbfe",
   "metadata": {},
   "outputs": [
    {
     "data": {
      "text/plain": [
       "list"
      ]
     },
     "execution_count": 13,
     "metadata": {},
     "output_type": "execute_result"
    }
   ],
   "source": [
    "type(n)"
   ]
  },
  {
   "cell_type": "code",
   "execution_count": 14,
   "id": "c043c3b3",
   "metadata": {},
   "outputs": [],
   "source": [
    "z = (x.split('//')[1] for x in h if '.com' in x) #это оно"
   ]
  },
  {
   "cell_type": "code",
   "execution_count": 15,
   "id": "9b378f66",
   "metadata": {},
   "outputs": [
    {
     "data": {
      "text/plain": [
       "<generator object <genexpr> at 0x0000018ED5817430>"
      ]
     },
     "execution_count": 15,
     "metadata": {},
     "output_type": "execute_result"
    }
   ],
   "source": [
    "z"
   ]
  },
  {
   "cell_type": "code",
   "execution_count": 16,
   "id": "c2874281",
   "metadata": {},
   "outputs": [
    {
     "data": {
      "text/plain": [
       "generator"
      ]
     },
     "execution_count": 16,
     "metadata": {},
     "output_type": "execute_result"
    }
   ],
   "source": [
    "type(z)"
   ]
  },
  {
   "cell_type": "code",
   "execution_count": 17,
   "id": "dbd9de28",
   "metadata": {},
   "outputs": [
    {
     "name": "stdout",
     "output_type": "stream",
     "text": [
      "www.youtube.com\n"
     ]
    }
   ],
   "source": [
    "for i in z:\n",
    "    print(i)"
   ]
  },
  {
   "cell_type": "code",
   "execution_count": 21,
   "id": "c0788640",
   "metadata": {},
   "outputs": [],
   "source": [
    "for i in z:\n",
    "    print(i)\n",
    "    print('/n')"
   ]
  },
  {
   "cell_type": "code",
   "execution_count": 20,
   "id": "bcf9a360",
   "metadata": {},
   "outputs": [],
   "source": [
    "#ничего. странно"
   ]
  },
  {
   "cell_type": "code",
   "execution_count": 22,
   "id": "b6514e66",
   "metadata": {},
   "outputs": [
    {
     "name": "stdout",
     "output_type": "stream",
     "text": [
      "Help on built-in function next in module builtins:\n",
      "\n",
      "next(...)\n",
      "    next(iterator[, default])\n",
      "    \n",
      "    Return the next item from the iterator. If default is given and the iterator\n",
      "    is exhausted, it is returned instead of raising StopIteration.\n",
      "\n"
     ]
    }
   ],
   "source": [
    "help(next)"
   ]
  },
  {
   "cell_type": "code",
   "execution_count": 23,
   "id": "7d61a6e1",
   "metadata": {},
   "outputs": [
    {
     "ename": "StopIteration",
     "evalue": "",
     "output_type": "error",
     "traceback": [
      "\u001b[1;31m---------------------------------------------------------------------------\u001b[0m",
      "\u001b[1;31mStopIteration\u001b[0m                             Traceback (most recent call last)",
      "\u001b[1;32m~\\AppData\\Local\\Temp\\ipykernel_12200\\3467732745.py\u001b[0m in \u001b[0;36m<module>\u001b[1;34m\u001b[0m\n\u001b[1;32m----> 1\u001b[1;33m \u001b[0mnext\u001b[0m\u001b[1;33m(\u001b[0m\u001b[0mz\u001b[0m\u001b[1;33m)\u001b[0m\u001b[1;33m\u001b[0m\u001b[1;33m\u001b[0m\u001b[0m\n\u001b[0m",
      "\u001b[1;31mStopIteration\u001b[0m: "
     ]
    }
   ],
   "source": [
    "next(z)"
   ]
  },
  {
   "cell_type": "code",
   "execution_count": null,
   "id": "92cd7b37",
   "metadata": {},
   "outputs": [],
   "source": []
  }
 ],
 "metadata": {
  "kernelspec": {
   "display_name": "Python 3 (ipykernel)",
   "language": "python",
   "name": "python3"
  },
  "language_info": {
   "codemirror_mode": {
    "name": "ipython",
    "version": 3
   },
   "file_extension": ".py",
   "mimetype": "text/x-python",
   "name": "python",
   "nbconvert_exporter": "python",
   "pygments_lexer": "ipython3",
   "version": "3.9.13"
  }
 },
 "nbformat": 4,
 "nbformat_minor": 5
}
